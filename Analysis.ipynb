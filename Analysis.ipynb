{
 "cells": [
  {
   "cell_type": "code",
   "execution_count": 1,
   "metadata": {},
   "outputs": [],
   "source": [
    "import numpy as np\n",
    "import pandas as pd\n",
    "import yfinance as yf\n"
   ]
  },
  {
   "cell_type": "code",
   "execution_count": 2,
   "metadata": {},
   "outputs": [
    {
     "name": "stderr",
     "output_type": "stream",
     "text": [
      "[*********************100%%**********************]  1 of 1 completed\n",
      "[*********************100%%**********************]  1 of 1 completed\n",
      "[*********************100%%**********************]  1 of 1 completed\n",
      "[*********************100%%**********************]  1 of 1 completed\n",
      "[*********************100%%**********************]  1 of 1 completed\n",
      "[*********************100%%**********************]  1 of 1 completed\n"
     ]
    }
   ],
   "source": [
    "\n",
    "# Define the stock symbols\n",
    "symbols = {\n",
    "    \"NFLX\": \"NFLX\",\n",
    "    \"BA\": \"BA\",\n",
    "    \"T\": \"T\",\n",
    "    \"MGM\": \"MGM\",\n",
    "    \"TSLA\": \"TSLA\",\n",
    "    \"sp500\": \"^GSPC\"\n",
    "}\n",
    "\n",
    "# Define the date range\n",
    "start_date = \"2013-01-01\"\n",
    "end_date = \"2023-01-01\"\n",
    "\n",
    "# Fetch the data\n",
    "data = {}\n",
    "for symbol, ticker in symbols.items():\n",
    "    data[symbol] = yf.download(ticker, start=start_date, end=end_date)[\"Close\"]\n"
   ]
  },
  {
   "cell_type": "code",
   "execution_count": 3,
   "metadata": {},
   "outputs": [],
   "source": [
    "\n",
    "# Create a DataFrame\n",
    "df = pd.DataFrame(data)\n",
    "\n",
    "# Reset the index to have 'Date' as a column\n",
    "df.reset_index(inplace=True)\n",
    "\n",
    "# Remove missing values\n",
    "df.dropna(inplace=True)\n"
   ]
  },
  {
   "cell_type": "code",
   "execution_count": 4,
   "metadata": {},
   "outputs": [
    {
     "name": "stderr",
     "output_type": "stream",
     "text": [
      "C:\\Users\\spars\\AppData\\Local\\Temp\\ipykernel_3824\\1929050720.py:6: FutureWarning: 'M' is deprecated and will be removed in a future version, please use 'ME' instead.\n",
      "  monthly_data = df.resample('M').last()\n"
     ]
    }
   ],
   "source": [
    "\n",
    "# Convert 'Date' to datetime and set it as the index\n",
    "df['Date'] = pd.to_datetime(df['Date'])\n",
    "df.set_index('Date', inplace=True)\n",
    "\n",
    "# Resample the data to monthly frequency and take the last observation for each month\n",
    "monthly_data = df.resample('M').last()\n",
    "\n",
    "# Calculate the monthly percentage return\n",
    "monthly_returns = monthly_data.pct_change() * 100\n",
    "\n",
    "# Remove the market index from returns to focus on individual stocks\n",
    "stock_returns = monthly_returns.drop(columns=['sp500'])\n"
   ]
  },
  {
   "cell_type": "code",
   "execution_count": 5,
   "metadata": {},
   "outputs": [],
   "source": [
    "\n",
    "# Calculate the standard deviation for each stock\n",
    "std_devs = stock_returns.std()\n",
    "\n",
    "# Calculate the beta for each stock\n",
    "market_returns = monthly_returns['sp500']\n"
   ]
  },
  {
   "cell_type": "code",
   "execution_count": 6,
   "metadata": {},
   "outputs": [],
   "source": [
    "\n",
    "# Initialize a dictionary to store beta values\n",
    "betas = {}\n",
    "\n",
    "for stock in stock_returns.columns:\n",
    "    # Calculate covariance of stock with the market\n",
    "    covariance = stock_returns[stock].cov(market_returns)\n",
    "    # Calculate variance of the market returns\n",
    "    market_variance = market_returns.var()\n",
    "    # Calculate beta\n",
    "    beta = covariance / market_variance\n",
    "    betas[stock] = beta\n"
   ]
  },
  {
   "cell_type": "code",
   "execution_count": 7,
   "metadata": {},
   "outputs": [],
   "source": [
    "\n",
    "# Convert betas to a DataFrame for better readability\n",
    "betas_df = pd.DataFrame(list(betas.items()), columns=['Stock', 'Beta'])\n",
    "\n",
    "# Assume a risk-free rate (annualized, so divide by 12 for monthly)\n",
    "risk_free_rate = 0.03 / 12  # 3% annual risk-free rate\n",
    "\n",
    "# Calculate the Treynor Ratio for each stock\n",
    "treynor_ratios = (stock_returns.mean() - risk_free_rate) / betas_df.set_index('Stock')['Beta']\n"
   ]
  },
  {
   "cell_type": "code",
   "execution_count": 8,
   "metadata": {},
   "outputs": [],
   "source": [
    "\n",
    "# Calculate Value at Risk (VaR) at 95% and 99% confidence levels\n",
    "def calculate_var(returns, confidence_level):\n",
    "    if returns.empty or len(returns) < 1:\n",
    "        return np.nan  # Return NaN if there's insufficient data\n",
    "    return -np.percentile(returns, (1 - confidence_level) * 100)\n",
    "\n",
    "# Apply VaR calculation with additional checks\n",
    "var_95 = stock_returns.apply(lambda x: calculate_var(x.dropna(), 0.95))\n",
    "var_99 = stock_returns.apply(lambda x: calculate_var(x.dropna(), 0.99))\n"
   ]
  },
  {
   "cell_type": "code",
   "execution_count": 9,
   "metadata": {},
   "outputs": [
    {
     "name": "stdout",
     "output_type": "stream",
     "text": [
      "  Stock  Standard Deviation      Beta  Treynor Ratio    VaR 95%    VaR 99%\n",
      "0  NFLX           12.480315  1.168477       2.517893  13.030491  27.641347\n",
      "1    BA           10.671564  1.419744       0.972808  13.331257  24.053124\n",
      "2     T            5.514140  0.543637      -0.275289   8.719142  13.813483\n",
      "3   MGM           11.863803  1.913574       0.797990  11.658214  20.258991\n",
      "4  TSLA           19.204345  1.804237       2.721835  19.308725  22.426234\n"
     ]
    }
   ],
   "source": [
    "\n",
    "# Combine results into a single DataFrame\n",
    "results_df = pd.DataFrame({\n",
    "    'Stock': std_devs.index,\n",
    "    'Standard Deviation': std_devs.values,\n",
    "    'Beta': betas_df.set_index('Stock')['Beta'].reindex(std_devs.index).values,\n",
    "    'Treynor Ratio': treynor_ratios.reindex(std_devs.index).values,\n",
    "    'VaR 95%': var_95.values,\n",
    "    'VaR 99%': var_99.values\n",
    "})\n",
    "\n",
    "print(results_df)\n"
   ]
  }
 ],
 "metadata": {
  "kernelspec": {
   "display_name": "Python 3",
   "language": "python",
   "name": "python3"
  },
  "language_info": {
   "codemirror_mode": {
    "name": "ipython",
    "version": 3
   },
   "file_extension": ".py",
   "mimetype": "text/x-python",
   "name": "python",
   "nbconvert_exporter": "python",
   "pygments_lexer": "ipython3",
   "version": "3.12.4"
  }
 },
 "nbformat": 4,
 "nbformat_minor": 2
}
